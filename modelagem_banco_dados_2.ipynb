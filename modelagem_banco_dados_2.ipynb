{
 "cells": [
  {
   "cell_type": "code",
   "execution_count": 1,
   "id": "a57ee48c",
   "metadata": {},
   "outputs": [
    {
     "name": "stdout",
     "output_type": "stream",
     "text": [
      "Banco importado: (18350, 189)\n"
     ]
    }
   ],
   "source": [
    "import pandas as pd\n",
    "import datetime\n",
    "import warnings\n",
    "warnings.filterwarnings(\"ignore\")\n",
    "\n",
    "# puxar arquivo do banco\n",
    "df = pd.read_csv('eapv_29032022_10h28.csv', sep=';', encoding='utf-8')\n",
    "\n",
    "print(f'Banco importado: {df.shape}')\n",
    "banco_completo = df.shape[0]"
   ]
  },
  {
   "cell_type": "markdown",
   "id": "4cdcab5b",
   "metadata": {},
   "source": [
    "# Excluir as fichas canceladas\n"
   ]
  },
  {
   "cell_type": "code",
   "execution_count": 2,
   "id": "e034b24d",
   "metadata": {},
   "outputs": [
    {
     "name": "stdout",
     "output_type": "stream",
     "text": [
      "Banco canceladas: (1012, 1)\n",
      "Banco sem as canceladas: 17338\n",
      "Banco completo: 18350 - canceladas: 1012 = 17338\n"
     ]
    }
   ],
   "source": [
    "# Transformando ['Número da Notificação'] para string\n",
    "df['Número da Notificação'] = df['Número da Notificação'].astype(str)\n",
    "# puxar arquivo canceladas\n",
    "df_canceladas = pd.read_csv('eapv_canceladas_29032022.csv', sep=';', encoding='utf-8')\n",
    "# df_canceladas passa a ser apenas a coluna 'Número da Notificação' e em string\n",
    "df_canceladas = df_canceladas[['Número da Notificação']].astype(str)\n",
    "print(f'Banco canceladas: {df_canceladas.shape}')\n",
    "banco_canceladas = df_canceladas.shape[0]\n",
    "# Transformando o banco df_canceladas para uma lista notif_canceladas\n",
    "notif_canceladas = df_canceladas['Número da Notificação'].to_list()\n",
    "\n",
    "# TIRANDO AS EXCLUÍDAS DO BANCO DE DADOS \n",
    "df = df[~df['Número da Notificação'].str.contains('(?i)' + '|'.join(notif_canceladas), na=False)]\n",
    "\n",
    "# conferir\n",
    "print(f'Banco sem as canceladas: {df.shape[0]}')\n",
    "print(f'Banco completo: {banco_completo} - canceladas: {banco_canceladas} = {banco_completo - banco_canceladas}')\n",
    "\n",
    "# Verificar se ficou alguma cancelada e excluir do banco\n",
    "df[df['Situação da Notificação'] == 'Cancelado']\n",
    "df = df[~df['Situação da Notificação'].str.contains('Cancelado', na=False)]"
   ]
  },
  {
   "cell_type": "markdown",
   "id": "89f81745",
   "metadata": {},
   "source": [
    "# Tratar vacinas"
   ]
  },
  {
   "cell_type": "code",
   "execution_count": 3,
   "id": "436b3abb",
   "metadata": {},
   "outputs": [
    {
     "name": "stdout",
     "output_type": "stream",
     "text": [
      "Foram excluídas do banco 1053 fichas que contém outras vacinas que não as COVID-19\n",
      "Banco somente com vacinas COVID-19: (17297, 189)\n"
     ]
    }
   ],
   "source": [
    "# Manter no df apenas vacinas corretas \n",
    "df = df.loc[(df['Imunobiológico (vacina)'].str.contains('(?i)Butantan') |\n",
    "             df['Imunobiológico (vacina)'].str.contains('(?i)Sinovac') |\n",
    "             df['Imunobiológico (vacina)'].str.contains('(?i)Oxford') |\n",
    "             df['Imunobiológico (vacina)'].str.contains('(?i)AstraZeneca') |\n",
    "             df['Imunobiológico (vacina)'].str.contains('(?i)Covishield') |\n",
    "             df['Imunobiológico (vacina)'].str.contains('(?i)Pfizer') |\n",
    "             df['Imunobiológico (vacina)'].str.contains('(?i)Janssen'))]\n",
    "\n",
    "bd_vacinas_covid = df.shape[0]\n",
    "\n",
    "print(f'Foram excluídas do banco {banco_completo - bd_vacinas_covid} fichas que contém outras vacinas que não as COVID-19')\n",
    "print(f'Banco somente com vacinas COVID-19: {df.shape}')"
   ]
  },
  {
   "cell_type": "markdown",
   "id": "2478162f",
   "metadata": {},
   "source": [
    "."
   ]
  },
  {
   "cell_type": "markdown",
   "id": "145bf436",
   "metadata": {},
   "source": [
    "."
   ]
  },
  {
   "cell_type": "markdown",
   "id": "738e2558",
   "metadata": {},
   "source": [
    "# ANÁLISE"
   ]
  },
  {
   "cell_type": "code",
   "execution_count": 90,
   "id": "62020c52",
   "metadata": {},
   "outputs": [],
   "source": [
    "# GRAVES E NAO GRAVES ok\n",
    "# FAIXA ETARIA ok\n",
    "# SEMANA EPIDEMIOLOGICA ok\n",
    "# ERRO DE IMUNIZAÇÃO OU EVENTO ADVERSO ok\n",
    "# ENCERRADOS E NÃO ENCERRADOS ok"
   ]
  },
  {
   "cell_type": "code",
   "execution_count": 91,
   "id": "04b77f65",
   "metadata": {},
   "outputs": [],
   "source": [
    "## DASHBOARD ENCERRAMENTOS ##\n",
    "# ORGÃO DE ENCERRAMENTO (VER A QUESTÃO DE DUPLICADAS) ok\n",
    "# VER OS MUNICIPIOS  DOS ENCERRAMENTOS MUNICIPAIS"
   ]
  },
  {
   "cell_type": "code",
   "execution_count": 12,
   "id": "3d833431",
   "metadata": {},
   "outputs": [],
   "source": [
    "df_especial = df.copy()"
   ]
  },
  {
   "cell_type": "markdown",
   "id": "96c7b57a",
   "metadata": {},
   "source": [
    "GRAVIDADE"
   ]
  },
  {
   "cell_type": "code",
   "execution_count": 93,
   "id": "7519dd29",
   "metadata": {},
   "outputs": [],
   "source": [
    "# grave e não grave\n",
    "df_especial['Gravidade'] = 'Nao grave'\n",
    "df_especial.loc[df_especial['Classificação de gravidade'].str.contains('Grave', na = False), 'Gravidade'] = 'Grave'"
   ]
  },
  {
   "cell_type": "markdown",
   "id": "32541e6c",
   "metadata": {},
   "source": [
    "TIPO DE EVENTO"
   ]
  },
  {
   "cell_type": "code",
   "execution_count": 94,
   "id": "cdd746f5",
   "metadata": {},
   "outputs": [],
   "source": [
    "# Tipo de evento\n",
    "df_eventos = df.copy()\n",
    "df_eventos_separado = pd.DataFrame()\n",
    "\n",
    "# fazendo um split na coluna e contatenando as informações\n",
    "for index, row in df_eventos.iterrows():\n",
    "    eventos = row['Tipo de Evento'].split('| ')\n",
    "        \n",
    "    i = 0\n",
    "    dados = {}\n",
    "    for evento in eventos:\n",
    "        # Trata os dados e concatena depois no dataframe\n",
    "        dados.setdefault(\"Número da Notificação\", []).append(row['Número da Notificação'])\n",
    "        dados.setdefault(\"Tipo de Evento\", []).append(evento)\n",
    "\n",
    "        i += 1\n",
    "\n",
    "    df_eventos_separado = pd.concat([df_eventos_separado, pd.DataFrame(dados)])\n",
    "df_eventos_separado\n",
    "\n",
    "# criando novas colunas no df separado\n",
    "df_eventos_separado['Evento'] = pd.Series()\n",
    "df_eventos_separado['Erro'] = pd.Series()\n",
    "\n",
    "# pesquisa no df separado e colocando sim nos que True\n",
    "df_eventos_separado.loc[df_eventos_separado['Tipo de Evento'].str.contains('Evento Adverso', na = False), 'Evento'] = 'Sim'\n",
    "df_eventos_separado.loc[df_eventos_separado['Tipo de Evento'].str.contains('Erro de Imunização', na = False), 'Erro'] = 'Sim'\n",
    "\n",
    "# Agrupando por numero de notificação volta o N de notificadas\n",
    "df_eventos_separado = df_eventos_separado.groupby(by=['Número da Notificação']).count()\n",
    "\n",
    "# Tipo de evento começa com ambos os tipos\n",
    "df_eventos_separado['Tipo de Evento'] = 'Evento adverso e Erro de imunização'\n",
    "# Se evento for igual a 0 e diferente de 0 = Erro\n",
    "df_eventos_separado.loc[(df_eventos_separado['Evento'] == 0) & (df_eventos_separado['Erro'] != 0), 'Tipo de Evento'] = 'Erro de imunização'\n",
    "# Se evento for diferente de 0 e igual a 0 = Evento\n",
    "df_eventos_separado.loc[(df_eventos_separado['Evento'] != 0) & (df_eventos_separado['Erro'] == 0), 'Tipo de Evento'] = 'Evento adverso'\n",
    "# Apagar colunas \n",
    "df_eventos_separado = df_eventos_separado.drop(columns=['Evento'])\n",
    "df_eventos_separado = df_eventos_separado.drop(columns=['Erro'])\n",
    "\n",
    "# Merge com a coluna df_especial\n",
    "df_especial = df_especial.merge(df_eventos_separado, on='Número da Notificação', how='left')\n",
    "# renomeando coluna\n",
    "df_especial = df_especial.rename(columns={'Tipo de Evento_y':'Tipo de Evento'})"
   ]
  },
  {
   "cell_type": "markdown",
   "id": "86fafefb",
   "metadata": {},
   "source": [
    "SEMANA EPIDEMIOLOGICA"
   ]
  },
  {
   "cell_type": "code",
   "execution_count": 95,
   "id": "1c80a172",
   "metadata": {},
   "outputs": [
    {
     "data": {
      "text/plain": [
       "array(['2021_52', '2021_12', '2021_51', '2021_41', '2021_38', '2021_47',\n",
       "       '2021_49', '2021_45', '2021_50', '2022_01', '2021_42', '2021_39',\n",
       "       '2021_40', '2022_02', '2021_48', '2022_03', '2021_46', '2022_04',\n",
       "       '2021_43', '2022_05', '2022_06', '2021_30', '2022_07', '2021_34',\n",
       "       '2022_08', '2022_09', '2022_10', '2022_11', '2021_10', '2021_20',\n",
       "       '2022_12', '2021_37', '2022_13', '2021_24', '2021_25', '2021_26',\n",
       "       '2021_27', '2021_28', '2021_29', '2021_31', '2021_35', '2021_03',\n",
       "       '2021_08', '2021_36', '2021_32', '2021_09', '2021_05', '2021_18',\n",
       "       '2021_06', '2021_16', '2021_19', '2021_44', '2021_17', '2021_15',\n",
       "       '2021_04', '2021_21', '2021_33', '2021_23', '2021_14', '2021_22',\n",
       "       '2021_07', '2021_13', '2021_11', nan], dtype=object)"
      ]
     },
     "execution_count": 95,
     "metadata": {},
     "output_type": "execute_result"
    }
   ],
   "source": [
    "# semana epidemiologica\n",
    "\n",
    "# transformando em datetime\n",
    "df_especial['Data da Notificação'] = pd.to_datetime(df_especial['Data da Notificação'], infer_datetime_format=True, format='%d/%m/%Y')\n",
    "df_especial['SE'] = pd.Series()\n",
    "\n",
    "# separando df de 2021 e 2022\n",
    "# Insert Epidemiology Week number\n",
    "df_especial.loc[(df_especial['Data da Notificação'] < '2022-01-01'), 'SE'] = df_especial['Data da Notificação'].dt.strftime('2021_' + '%U')\n",
    "df_especial.loc[(df_especial['Data da Notificação'] >= '2022-01-01'), 'SE'] = df_especial['Data da Notificação'].dt.strftime('2022_' + '%U')\n",
    "\n",
    "# tratando o SE_00 e 2021 < 03\n",
    "df_especial.loc[df_especial['SE'] == '2022_00', 'SE'] = '2021_52'\n",
    "df_especial.loc[df_especial['SE'] < '2021_03', 'SE'] = pd.Series()\n",
    "\n",
    "df_especial['SE'].unique()"
   ]
  },
  {
   "cell_type": "markdown",
   "id": "a810ead8",
   "metadata": {},
   "source": [
    "FAIXA ETÁRIA"
   ]
  },
  {
   "cell_type": "code",
   "execution_count": 96,
   "id": "d8f3e739",
   "metadata": {},
   "outputs": [],
   "source": [
    "# faixa etaria\n",
    "df_especial['Faixa etaria'] = 'Indefinido'\n",
    "df_especial.loc[(df_especial['Idade Evento'] >= 5) & (df_especial['Idade Evento'] <= 11), 'Faixa etaria'] = '5-11'\n",
    "df_especial.loc[(df_especial['Idade Evento'] >= 12) & (df_especial['Idade Evento'] <= 19), 'Faixa etaria'] = '12-19'\n",
    "df_especial.loc[(df_especial['Idade Evento'] >= 20) & (df_especial['Idade Evento'] <= 29), 'Faixa etaria'] = '20-29'\n",
    "df_especial.loc[(df_especial['Idade Evento'] >= 30) & (df_especial['Idade Evento'] <= 39), 'Faixa etaria'] = '30-39'\n",
    "df_especial.loc[(df_especial['Idade Evento'] >= 40) & (df_especial['Idade Evento'] <= 49), 'Faixa etaria'] = '40-49'\n",
    "df_especial.loc[(df_especial['Idade Evento'] >= 50) & (df_especial['Idade Evento'] <= 59), 'Faixa etaria'] = '50-59'\n",
    "df_especial.loc[(df_especial['Idade Evento'] >= 60) & (df_especial['Idade Evento'] <= 69), 'Faixa etaria'] = '60-69'\n",
    "df_especial.loc[(df_especial['Idade Evento'] >= 70) & (df_especial['Idade Evento'] <= 79), 'Faixa etaria'] = '70-79'\n",
    "df_especial.loc[df_especial['Idade Evento'] >= 80, 'Faixa etaria'] = '80+'"
   ]
  },
  {
   "cell_type": "markdown",
   "id": "6d6d71b2",
   "metadata": {},
   "source": [
    "ENCERRADOS"
   ]
  },
  {
   "cell_type": "code",
   "execution_count": 5,
   "id": "c0b9aef0",
   "metadata": {},
   "outputs": [
    {
     "data": {
      "text/plain": [
       "array(['Nao encerrado', 'Estadual', 'Municipal', 'Municipal e Estadual',\n",
       "       'Federal'], dtype=object)"
      ]
     },
     "execution_count": 5,
     "metadata": {},
     "output_type": "execute_result"
    }
   ],
   "source": [
    "# Encerrados\n",
    "df_especial['Encerramento'] = 'Nao encerrado'\n",
    "\n",
    "# Municipio\n",
    "df_especial['Municipal'] = 'Municipal'\n",
    "df_especial['Encerramento Municipal - Evento adverso'].fillna('Not', inplace=True)\n",
    "df_especial.loc[df_especial['Encerramento Municipal - Evento adverso'].str.contains('Not', na = False), 'Municipal'] = 'Nao encerrado'\n",
    "# Estadual\n",
    "df_especial['Estadual'] = 'Estadual'\n",
    "df_especial['Encerramento Estadual - Evento adverso'].fillna('Not estadual', inplace=True)\n",
    "df_especial.loc[df_especial['Encerramento Estadual - Evento adverso'].str.contains('Not estadual', na = False), 'Estadual'] = 'Nao encerrado'\n",
    "# Federal \n",
    "df_especial['Federal'] = 'Federal'\n",
    "df_especial['Encerramento Federal - Evento adverso'].fillna('Not federal', inplace=True)\n",
    "df_especial.loc[df_especial['Encerramento Federal - Evento adverso'].str.contains('Not federal', na = False), 'Federal'] = 'Nao encerrado'\n",
    "# Cifavi \n",
    "df_especial['Cifavi'] = 'Cifavi'\n",
    "df_especial['Encerramento Cifavi - Evento adverso'].fillna('Not cifavi', inplace=True)\n",
    "df_especial.loc[df_especial['Encerramento Cifavi - Evento adverso'].str.contains('Not cifavi', na = False), 'Cifavi'] = 'Nao encerrado'\n",
    "\n",
    "# Agrupando informações na coluna Encerramento\n",
    "df_especial.loc[df_especial['Municipal'].str.contains('Municipal', na = False), 'Encerramento'] = 'Municipal'\n",
    "df_especial.loc[df_especial['Estadual'].str.contains('Estadual', na = False), 'Encerramento'] = 'Estadual'\n",
    "df_especial.loc[df_especial['Federal'].str.contains('Federal', na = False), 'Encerramento'] = 'Federal'\n",
    "df_especial.loc[(df_especial['Municipal'] == 'Municipal') & (df_especial['Estadual'] == 'Estadual'), 'Encerramento'] = 'Municipal e Estadual'\n",
    "\n",
    "df_especial['Encerramento'].unique()"
   ]
  },
  {
   "cell_type": "code",
   "execution_count": 10,
   "id": "3b53e865",
   "metadata": {},
   "outputs": [],
   "source": [
    "# pesquisa por email encerramentos incorretos\n",
    "df_especial.loc[df_especial['Encerramento Municipal - E-mail Responsável'].str.contains('carolina-krieger@saude.rs.gov.br', na = False), 'Encerramento'] = 'Estadual'\n",
    "df_especial.loc[df_especial['Encerramento Municipal - E-mail Responsável'].str.contains('helena-ramos@saude.rs.gov.br', na = False), 'Encerramento'] = 'Estadual'\n",
    "df_especial.loc[df_especial['Encerramento Municipal - E-mail Responsável'].str.contains('rosemeri-cohen@saude.rs.gov.br', na = False), 'Encerramento'] = 'Estadual'\n",
    "df_especial.loc[df_especial['Encerramento Municipal - E-mail Responsável'].str.contains('aczanchi@gmail.com', na = False), 'Encerramento'] = 'Estadual'"
   ]
  },
  {
   "cell_type": "code",
   "execution_count": 15,
   "id": "20bc50f5",
   "metadata": {},
   "outputs": [],
   "source": [
    "# analisar manualmente os emails de quem encerrou casos municipais\n",
    "teste = df_especial.copy()\n",
    "teste = teste[['Encerramento Municipal - E-mail Responsável']]\n",
    "teste = teste.groupby(by=['Encerramento Municipal - E-mail Responsável']).count()\n",
    "teste.to_excel('E-mail encerrados.xlsx')"
   ]
  },
  {
   "cell_type": "markdown",
   "id": "0d850607",
   "metadata": {},
   "source": [
    "VACINAS"
   ]
  },
  {
   "cell_type": "code",
   "execution_count": 98,
   "id": "e1dc83d7",
   "metadata": {},
   "outputs": [],
   "source": [
    "df_especial['Vacina'] = pd.Series()\n",
    "\n",
    "pfizer = ['pfizer', 'comirnaty']\n",
    "astra = ['astrazeneca', 'covishield', 'oxford', 'fiocruz']\n",
    "butantan = ['butantan', 'coronavac', 'sinovac']\n",
    "\n",
    "df_especial.loc[df_especial['Imunobiológico (vacina)'].str.contains('janssen'), 'Vacina'] = 'Janssen'\n",
    "df_especial.loc[df_especial['Imunobiológico (vacina)'].str.contains('(?i)' + '|'.join(pfizer)), 'Vacina'] = 'Pfizer'\n",
    "df_especial.loc[df_especial['Imunobiológico (vacina)'].str.contains('(?i)' + '|'.join(astra)), 'Vacina'] = 'Astrazeneca'\n",
    "df_especial.loc[df_especial['Imunobiológico (vacina)'].str.contains('(?i)' + '|'.join(butantan)), 'Vacina'] = 'Butantan'"
   ]
  },
  {
   "cell_type": "markdown",
   "id": "7947d309",
   "metadata": {},
   "source": [
    "# GERAR EXCEL"
   ]
  },
  {
   "cell_type": "code",
   "execution_count": 103,
   "id": "e1e98e82",
   "metadata": {},
   "outputs": [],
   "source": [
    "# filtrar colunas de interesse\n",
    "df_especial = df_especial[['Número da Notificação', 'Sexo', 'Vacina',    # Informações extras\n",
    "                          'Idade Evento', 'Faixa etaria',                # Gráfico por faixa etária\n",
    "                          'SE',                                          # Gráfico por semana epidemiologica\n",
    "                          'Tipo de Evento',                              # Gráfico por tipo de evento\n",
    "                          'Encerramento', 'Município da Notificação',    # Gráfico encerrado por municipio\n",
    "                          'Gravidade']]                                  # Gráfico por gravidade                         "
   ]
  },
  {
   "cell_type": "code",
   "execution_count": 6,
   "id": "ffd4fa83",
   "metadata": {},
   "outputs": [],
   "source": [
    "df_especial.to_excel('Banco_dados_completo.xlsx')"
   ]
  },
  {
   "cell_type": "code",
   "execution_count": null,
   "id": "072b96e1",
   "metadata": {},
   "outputs": [],
   "source": []
  }
 ],
 "metadata": {
  "kernelspec": {
   "display_name": "Python 3",
   "language": "python",
   "name": "python3"
  },
  "language_info": {
   "codemirror_mode": {
    "name": "ipython",
    "version": 3
   },
   "file_extension": ".py",
   "mimetype": "text/x-python",
   "name": "python",
   "nbconvert_exporter": "python",
   "pygments_lexer": "ipython3",
   "version": "3.8.8"
  }
 },
 "nbformat": 4,
 "nbformat_minor": 5
}
