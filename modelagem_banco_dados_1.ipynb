{
 "cells": [
  {
   "cell_type": "code",
   "execution_count": 16,
   "metadata": {},
   "outputs": [
    {
     "name": "stdout",
     "output_type": "stream",
     "text": [
      "Banco importado: (18184, 189)\n"
     ]
    },
    {
     "name": "stderr",
     "output_type": "stream",
     "text": [
      "/var/folders/4y/plk7ct8n4g9gz40s3_dvz7cm0000gn/T/ipykernel_17841/3906717128.py:2: DtypeWarning: Columns (22,34,52,63,64,75,122,137,152,160,161,162,163,164,165,166,168,169,170,171,172) have mixed types. Specify dtype option on import or set low_memory=False.\n",
      "  df = pd.read_csv('eapv_21032022_13h29.csv', sep=';')\n"
     ]
    }
   ],
   "source": [
    "import pandas as pd\n",
    "df = pd.read_csv('eapv_21032022_13h29.csv', sep=';')\n",
    "print(f'Banco importado: {df.shape}')\n",
    "banco_completo = df.shape[0]"
   ]
  },
  {
   "cell_type": "code",
   "execution_count": 17,
   "metadata": {},
   "outputs": [
    {
     "name": "stdout",
     "output_type": "stream",
     "text": [
      "Banco canceladas: (1002, 1)\n"
     ]
    }
   ],
   "source": [
    "# Transformando ['Número da Notificação'] para string\n",
    "df['Número da Notificação'] = df['Número da Notificação'].astype(str)\n",
    "# puxar arquivo canceladas\n",
    "df_canceladas = pd.read_csv('eapv_canceladas_21032022.csv', sep=';', encoding='utf-8')\n",
    "# df_canceladas passa a ser apenas a coluna 'Número da Notificação' e em string\n",
    "df_canceladas = df_canceladas[['Número da Notificação']].astype(str)\n",
    "print(f'Banco canceladas: {df_canceladas.shape}')\n",
    "banco_canceladas = df_canceladas.shape[0]\n",
    "# Transformando o banco df_canceladas para uma lista notif_canceladas\n",
    "notif_canceladas = df_canceladas['Número da Notificação'].to_list()"
   ]
  },
  {
   "cell_type": "code",
   "execution_count": 18,
   "metadata": {},
   "outputs": [
    {
     "name": "stdout",
     "output_type": "stream",
     "text": [
      "Banco sem as canceladas: 17182\n",
      "Banco completo: 18184 - canceladas: 1002 = 17182\n"
     ]
    }
   ],
   "source": [
    "# TIRANDO AS EXCLUÍDAS DO BANCO DE DADOS \n",
    "df = df[~df['Número da Notificação'].str.contains('(?i)' + '|'.join(notif_canceladas), na=False)]\n",
    "\n",
    "# conferir\n",
    "print(f'Banco sem as canceladas: {df.shape[0]}')\n",
    "print(f'Banco completo: {banco_completo} - canceladas: {banco_canceladas} = {banco_completo - banco_canceladas}')\n",
    "\n",
    "# Verificar se ficou alguma cancelada e excluir do banco\n",
    "df[df['Situação da Notificação'] == 'Cancelado']\n",
    "df = df[~df['Situação da Notificação'].str.contains('Cancelado', na=False)]"
   ]
  },
  {
   "cell_type": "code",
   "execution_count": 19,
   "metadata": {},
   "outputs": [],
   "source": [
    "# Encerrados\n",
    "df_encerrados = df.copy()\n",
    "df_encerrados['Encerramento'] = 'Nao encerrado'\n",
    "\n",
    "# Municipio\n",
    "df_encerrados['Municipal'] = 'Municipal'\n",
    "df_encerrados['Encerramento Municipal - Evento adverso'].fillna('Not', inplace=True)\n",
    "df_encerrados.loc[df_encerrados['Encerramento Municipal - Evento adverso'].str.contains('Not', na = False), 'Municipal'] = 'Nao encerrado'\n",
    "\n",
    "# Estadual\n",
    "df_encerrados['Estadual'] = 'Estadual'\n",
    "df_encerrados['Encerramento Estadual - Evento adverso'].fillna('Not estadual', inplace=True)\n",
    "df_encerrados.loc[df_encerrados['Encerramento Estadual - Evento adverso'].str.contains('Not estadual', na = False), 'Estadual'] = 'Nao encerrado'\n",
    "\n",
    "# Federal \n",
    "df_encerrados['Federal'] = 'Federal'\n",
    "df_encerrados['Encerramento Federal - Evento adverso'].fillna('Not federal', inplace=True)\n",
    "df_encerrados.loc[df_encerrados['Encerramento Federal - Evento adverso'].str.contains('Not federal', na = False), 'Federal'] = 'Nao encerrado'\n",
    "\n",
    "# Federal \n",
    "df_encerrados['Cifavi'] = 'Cifavi'\n",
    "df_encerrados['Encerramento Cifavi - Evento adverso'].fillna('Not cifavi', inplace=True)\n",
    "df_encerrados.loc[df_encerrados['Encerramento Cifavi - Evento adverso'].str.contains('Not cifavi', na = False), 'Cifavi'] = 'Nao encerrado'"
   ]
  },
  {
   "cell_type": "code",
   "execution_count": 20,
   "metadata": {},
   "outputs": [],
   "source": [
    "df_encerrados.loc[df_encerrados['Municipal'].str.contains('Municipal', na = False), 'Encerramento'] = 'Municipal'\n",
    "df_encerrados.loc[df_encerrados['Estadual'].str.contains('Estadual', na = False), 'Encerramento'] = 'Estadual'\n",
    "df_encerrados.loc[df_encerrados['Federal'].str.contains('Federal', na = False), 'Encerramento'] = 'Federal'\n",
    "\n",
    "df_encerrados = df_encerrados.drop(columns=['Municipal'])\n",
    "df_encerrados = df_encerrados.drop(columns=['Estadual'])\n",
    "df_encerrados = df_encerrados.drop(columns=['Federal'])\n",
    "df_encerrados = df_encerrados.drop(columns=['Cifavi'])"
   ]
  },
  {
   "cell_type": "code",
   "execution_count": 21,
   "metadata": {},
   "outputs": [
    {
     "data": {
      "text/plain": [
       "array(['Municipal', 'Estadual', 'Nao encerrado', 'Federal'], dtype=object)"
      ]
     },
     "execution_count": 21,
     "metadata": {},
     "output_type": "execute_result"
    }
   ],
   "source": [
    "df_encerrados['Encerramento'].unique()"
   ]
  },
  {
   "cell_type": "code",
   "execution_count": 22,
   "metadata": {},
   "outputs": [],
   "source": [
    "# Tratar eventos graves e não graves\n",
    "df_encerrados['Gravidade'] = 'Nao grave'\n",
    "df_encerrados.loc[df_encerrados['Classificação de gravidade'].str.contains('Grave', na = False), 'Gravidade'] = 'Grave'"
   ]
  },
  {
   "cell_type": "code",
   "execution_count": 23,
   "metadata": {},
   "outputs": [],
   "source": [
    "df_encerrados['Geral'] = 'Encerrado'"
   ]
  },
  {
   "cell_type": "code",
   "execution_count": 24,
   "metadata": {},
   "outputs": [],
   "source": [
    "df_encerrados.loc[df_encerrados['Encerramento'] == 'Nao encerrado', 'Geral'] = 'Nao encerrado'"
   ]
  },
  {
   "cell_type": "code",
   "execution_count": 25,
   "metadata": {},
   "outputs": [
    {
     "data": {
      "text/html": [
       "<div>\n",
       "<style scoped>\n",
       "    .dataframe tbody tr th:only-of-type {\n",
       "        vertical-align: middle;\n",
       "    }\n",
       "\n",
       "    .dataframe tbody tr th {\n",
       "        vertical-align: top;\n",
       "    }\n",
       "\n",
       "    .dataframe thead th {\n",
       "        text-align: right;\n",
       "    }\n",
       "</style>\n",
       "<table border=\"1\" class=\"dataframe\">\n",
       "  <thead>\n",
       "    <tr style=\"text-align: right;\">\n",
       "      <th></th>\n",
       "      <th>Data da Notificação</th>\n",
       "      <th>Gravidade</th>\n",
       "      <th>Encerramento</th>\n",
       "      <th>Geral</th>\n",
       "    </tr>\n",
       "  </thead>\n",
       "  <tbody>\n",
       "    <tr>\n",
       "      <th>0</th>\n",
       "      <td>09/10/2021</td>\n",
       "      <td>Nao grave</td>\n",
       "      <td>Municipal</td>\n",
       "      <td>Encerrado</td>\n",
       "    </tr>\n",
       "    <tr>\n",
       "      <th>1</th>\n",
       "      <td>09/10/2021</td>\n",
       "      <td>Nao grave</td>\n",
       "      <td>Municipal</td>\n",
       "      <td>Encerrado</td>\n",
       "    </tr>\n",
       "    <tr>\n",
       "      <th>2</th>\n",
       "      <td>09/10/2021</td>\n",
       "      <td>Nao grave</td>\n",
       "      <td>Municipal</td>\n",
       "      <td>Encerrado</td>\n",
       "    </tr>\n",
       "    <tr>\n",
       "      <th>3</th>\n",
       "      <td>10/10/2021</td>\n",
       "      <td>Nao grave</td>\n",
       "      <td>Municipal</td>\n",
       "      <td>Encerrado</td>\n",
       "    </tr>\n",
       "    <tr>\n",
       "      <th>4</th>\n",
       "      <td>10/10/2021</td>\n",
       "      <td>Nao grave</td>\n",
       "      <td>Municipal</td>\n",
       "      <td>Encerrado</td>\n",
       "    </tr>\n",
       "    <tr>\n",
       "      <th>...</th>\n",
       "      <td>...</td>\n",
       "      <td>...</td>\n",
       "      <td>...</td>\n",
       "      <td>...</td>\n",
       "    </tr>\n",
       "    <tr>\n",
       "      <th>18174</th>\n",
       "      <td>28/01/2021</td>\n",
       "      <td>Nao grave</td>\n",
       "      <td>Municipal</td>\n",
       "      <td>Encerrado</td>\n",
       "    </tr>\n",
       "    <tr>\n",
       "      <th>18177</th>\n",
       "      <td>28/01/2021</td>\n",
       "      <td>Nao grave</td>\n",
       "      <td>Municipal</td>\n",
       "      <td>Encerrado</td>\n",
       "    </tr>\n",
       "    <tr>\n",
       "      <th>18178</th>\n",
       "      <td>28/01/2021</td>\n",
       "      <td>Nao grave</td>\n",
       "      <td>Nao encerrado</td>\n",
       "      <td>Nao encerrado</td>\n",
       "    </tr>\n",
       "    <tr>\n",
       "      <th>18179</th>\n",
       "      <td>27/01/2021</td>\n",
       "      <td>Nao grave</td>\n",
       "      <td>Municipal</td>\n",
       "      <td>Encerrado</td>\n",
       "    </tr>\n",
       "    <tr>\n",
       "      <th>18180</th>\n",
       "      <td>28/01/2021</td>\n",
       "      <td>Nao grave</td>\n",
       "      <td>Estadual</td>\n",
       "      <td>Encerrado</td>\n",
       "    </tr>\n",
       "  </tbody>\n",
       "</table>\n",
       "<p>17171 rows × 4 columns</p>\n",
       "</div>"
      ],
      "text/plain": [
       "      Data da Notificação  Gravidade   Encerramento          Geral\n",
       "0              09/10/2021  Nao grave      Municipal      Encerrado\n",
       "1              09/10/2021  Nao grave      Municipal      Encerrado\n",
       "2              09/10/2021  Nao grave      Municipal      Encerrado\n",
       "3              10/10/2021  Nao grave      Municipal      Encerrado\n",
       "4              10/10/2021  Nao grave      Municipal      Encerrado\n",
       "...                   ...        ...            ...            ...\n",
       "18174          28/01/2021  Nao grave      Municipal      Encerrado\n",
       "18177          28/01/2021  Nao grave      Municipal      Encerrado\n",
       "18178          28/01/2021  Nao grave  Nao encerrado  Nao encerrado\n",
       "18179          27/01/2021  Nao grave      Municipal      Encerrado\n",
       "18180          28/01/2021  Nao grave       Estadual      Encerrado\n",
       "\n",
       "[17171 rows x 4 columns]"
      ]
     },
     "execution_count": 25,
     "metadata": {},
     "output_type": "execute_result"
    }
   ],
   "source": [
    "df_encerrados = df_encerrados[['Data da Notificação', 'Gravidade', 'Encerramento', 'Geral']]\n",
    "df_encerrados"
   ]
  },
  {
   "cell_type": "code",
   "execution_count": 26,
   "metadata": {},
   "outputs": [
    {
     "data": {
      "text/plain": [
       "(7792, 4)"
      ]
     },
     "execution_count": 26,
     "metadata": {},
     "output_type": "execute_result"
    }
   ],
   "source": [
    "df_encerrados.loc[df_encerrados['Geral'] == 'Nao encerrado'].shape"
   ]
  },
  {
   "cell_type": "code",
   "execution_count": 27,
   "metadata": {},
   "outputs": [],
   "source": [
    "df_encerrados.to_excel('df_completo.xlsx')"
   ]
  }
 ],
 "metadata": {
  "interpreter": {
   "hash": "34d5241c2adb55704af14caadc32b5a89d11e802f3fcb3beb5a89bef81f3322c"
  },
  "kernelspec": {
   "display_name": "Python 3.8.8 ('base')",
   "language": "python",
   "name": "python3"
  },
  "language_info": {
   "codemirror_mode": {
    "name": "ipython",
    "version": 3
   },
   "file_extension": ".py",
   "mimetype": "text/x-python",
   "name": "python",
   "nbconvert_exporter": "python",
   "pygments_lexer": "ipython3",
   "version": "3.8.8"
  },
  "orig_nbformat": 4
 },
 "nbformat": 4,
 "nbformat_minor": 2
}
